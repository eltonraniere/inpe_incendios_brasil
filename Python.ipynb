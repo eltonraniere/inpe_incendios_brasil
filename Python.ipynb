{
  "nbformat": 4,
  "nbformat_minor": 0,
  "metadata": {
    "colab": {
      "name": "Python",
      "provenance": [],
      "authorship_tag": "ABX9TyOjueRZBzUOkBkDJFGL9PU7",
      "include_colab_link": true
    },
    "kernelspec": {
      "name": "python3",
      "display_name": "Python 3"
    },
    "language_info": {
      "name": "python"
    }
  },
  "cells": [
    {
      "cell_type": "markdown",
      "metadata": {
        "id": "view-in-github",
        "colab_type": "text"
      },
      "source": [
        "<a href=\"https://colab.research.google.com/github/eltonraniere/inpe_incendios_brasil/blob/main/Python.ipynb\" target=\"_parent\"><img src=\"https://colab.research.google.com/assets/colab-badge.svg\" alt=\"Open In Colab\"/></a>"
      ]
    },
    {
      "cell_type": "markdown",
      "metadata": {
        "id": "Lqz0zr0sVDRd"
      },
      "source": [
        "# Introdução\n",
        "\n",
        "1. Definir o problema\n",
        "2. Separar em partes\n",
        "3. Ordenar atividades\n",
        "4. Traduzir para código\n",
        "5. Obter a solução do problema\n",
        "\n",
        "built-in functions: https://docs.python.org/3/library/functions.html#sum\n",
        "\n",
        "Comandos Básicos:\n",
        "Variáveis, tipos, estruturas e operadores\n",
        "\n",
        "*   Declaração de variáveis\n",
        "\n"
      ]
    },
    {
      "cell_type": "code",
      "metadata": {
        "colab": {
          "base_uri": "https://localhost:8080/"
        },
        "id": "QUfDo5x7UW85",
        "outputId": "5c9f4b53-cf6e-4626-9208-4fa5968e722d"
      },
      "source": [
        "n1 = 20.6 #tipo float\n",
        "n2 = 30   #tipo inteiro\n",
        "soma = n1+n2\n",
        "texto = 'Santarém' #tipo string\n",
        "a = True #tipo booleano\n",
        "\n",
        "#declaração múltipla de variáveis\n",
        "\n",
        "b,c,d = 1,2,3.4\n",
        "\n",
        "print(d)"
      ],
      "execution_count": null,
      "outputs": [
        {
          "output_type": "stream",
          "text": [
            "3.4\n"
          ],
          "name": "stdout"
        }
      ]
    },
    {
      "cell_type": "markdown",
      "metadata": {
        "id": "DaC8E1kWL9Yq"
      },
      "source": [
        "# Alguns tipos de atribuições"
      ]
    },
    {
      "cell_type": "code",
      "metadata": {
        "id": "TvI16bOHL-su"
      },
      "source": [
        "#Aditiva\n",
        "v1 = 4\n",
        "#v1 = v1 + 1\n",
        "v1 += 3\n",
        "print(v)\n",
        "\n",
        "#Subtrativa\n",
        "v2 = 4\n",
        "#v2 = v2 - 1\n",
        "v2 -= 1\n",
        "print(v2)\n",
        "\n",
        "#Multiplicativa\n",
        "v3 = 4\n",
        "v3 *= 2\n",
        "print(v3)\n",
        "\n",
        "#Divisiva\n",
        "v4 = 4\n",
        "v4 /= 2\n",
        "print(v4)\n",
        "\n",
        "#Módulo\n",
        "print(5%2)\n",
        "if 5%2 == 0:\n",
        "  print('É par')\n",
        "else:\n",
        "  print('Não é par')  \n",
        "\n",
        "#Exponenciação\n",
        "print(4**4)"
      ],
      "execution_count": null,
      "outputs": []
    },
    {
      "cell_type": "markdown",
      "metadata": {
        "id": "Sp2P9a8CNeFn"
      },
      "source": [
        "# Operadores Lógicos"
      ]
    },
    {
      "cell_type": "code",
      "metadata": {
        "id": "GhDKDnhVNfIc"
      },
      "source": [
        "#print('texto' != 'texto')\n",
        "#print(8 != 10)\n",
        "\n",
        "# > maior que\n",
        "# < menor que\n",
        "# >= maior ou igual a\n",
        "# <= menor ou igual a\n",
        "# == igual a\n",
        "# != diferente de\n",
        "\n",
        "#and\n",
        "print('texto'!='texto' and 8 != 10) #F\n",
        "print('texto'=='texto' and 8 != 10) #V\n",
        "#or\n",
        "print('texto'!='texto' or 8 != 10) #V\n",
        "print('texto'=='texto' or 8 != 10) #V\n",
        "\n"
      ],
      "execution_count": null,
      "outputs": []
    },
    {
      "cell_type": "markdown",
      "metadata": {
        "id": "D-y2DdVdbMel"
      },
      "source": [
        "# Strings\n",
        "\n",
        "Strings podem ser definidos como coleções de sequencias de caracteres. Isto significa que assumimos que os caracteres individuais que compõem a cadeia estão em uma determinada ordem, da esquerda para a direita.\n",
        "\n",
        "Quando queremos usar de strings mais elaboradas, não somente texto mas podendo agregar/integrar a esse texto diversas funcionalidades, usamos do conceito de interpolação, na sintaxe mais moderna da linguagem Python, chamada de f’strings e máscaras de substituição.\n"
      ]
    },
    {
      "cell_type": "code",
      "metadata": {
        "id": "Zcdqn_svbQLk"
      },
      "source": [
        "t1 = \"texto\"\n",
        "print(len(t1)) #a função len, retorna o tamanho da variável\n",
        "print(t1)\n",
        "\n",
        "# usando f'string\n",
        "nome = 'José'\n",
        "print(f'Olá {nome},bem-vindo ao Python.')\n",
        "print(f'O meu nome é {nome}')\n",
        "\n",
        "# expressão aritmética\n",
        "print(f'O resultado é: {5 * 5}')\n",
        "\n",
        "# imprimindo todo conteúdo de uma string\n",
        "for i in nome:\n",
        "  print(i)\n"
      ],
      "execution_count": null,
      "outputs": []
    },
    {
      "cell_type": "markdown",
      "metadata": {
        "id": "QYr1LF7bdjKL"
      },
      "source": [
        "# Listas\n",
        "\n"
      ]
    },
    {
      "cell_type": "code",
      "metadata": {
        "id": "7XbEkb7zdlq1"
      },
      "source": [
        "lista1 = [3.6,1,'José',True,9,10]\n",
        "print(lista1)\n",
        "\n",
        "#del lista1[5]\n",
        "#print(lista1)\n",
        "\n",
        "lista1.remove(True) #porquê o elemento True não é removido da lista com esse comando\n",
        "print(lista1)\n",
        "\n",
        "lista1.remove(True) #porquê o elemento True não é removido da lista com esse comando\n",
        "print(lista1)\n",
        "\n",
        "#del lista1[2]\n",
        "#print(lista1)\n",
        "#print(lista1)\n",
        "#lista1.remove(5)\n",
        "#print(lista1)\n",
        "#lista1[-2]\n",
        "for i in lista1:\n",
        "  print(i)"
      ],
      "execution_count": null,
      "outputs": []
    },
    {
      "cell_type": "code",
      "metadata": {
        "colab": {
          "base_uri": "https://localhost:8080/"
        },
        "id": "0wq0L_31qlI9",
        "outputId": "e0f465c6-e023-4edd-e859-5d50cc696d6d"
      },
      "source": [
        "if True == 1:\n",
        "  print(\"Verdadeiro\")\n",
        "else:\n",
        "  print(\"Falso\")  "
      ],
      "execution_count": null,
      "outputs": [
        {
          "output_type": "stream",
          "text": [
            "Verdadeiro\n"
          ],
          "name": "stdout"
        }
      ]
    },
    {
      "cell_type": "markdown",
      "metadata": {
        "id": "Xf85--NmRORU"
      },
      "source": [
        "# **Dicionários**\n",
        "\n",
        "Dicionários são estruturas de dados não indexados, possuindo em sua sintaxe, basicamente, *`chave:valor`*. Semelhante a um dicionário que conhecemos, onde temos uma palavra e um significado, aqui a estrutura lógica é basicamente a mesma"
      ]
    },
    {
      "cell_type": "code",
      "metadata": {
        "id": "_fdK_mEbRU0w"
      },
      "source": [
        "pedro = {'nome':'Pedro',\n",
        "         'idade':28,\n",
        "         'formacao':['Engenheiro de Pesca','Coordenador de projeto']}\n",
        "\n",
        "#dir(pedro)\n",
        "#imprime o tipo da variável\n",
        "print(type(pedro))\n",
        "\n",
        "#imprime o tamanho da variável\n",
        "print(len(pedro))\n",
        "\n",
        "#consulta ao dicionário usando o comando .get()\n",
        "print(pedro.get('idade'))\n",
        "print(pedro.get('formacao'))\n",
        "\n",
        "#consultar as chaves do dicionário, usando o comando .keys()\n",
        "print(pedro.keys())\n",
        "\n",
        "#consultar os valores do dicionário, usando o comando .values()\n",
        "print(pedro.values())\n",
        "\n",
        "#imprime as chave e valores do dicionário\n",
        "print(pedro.items())\n",
        "print(pedro)\n",
        "\n",
        "#alterando dados do dicionário\n",
        "pedro['idade'] = 30\n",
        "print(pedro)\n",
        "\n",
        "#adicionar um novo dado ao dicionário, usando o comando .append()\n",
        "pedro['formacao'].append('Analista') #para adicionar dados (valores) ao dicionário\n",
        "pedro['nacionalidade'] = 'brasileiro' #para adicionar uma nova chave e valor\n",
        "print(pedro)"
      ],
      "execution_count": null,
      "outputs": []
    },
    {
      "cell_type": "markdown",
      "metadata": {
        "id": "vcNlCXddgZ50"
      },
      "source": [
        "# Vetores"
      ]
    },
    {
      "cell_type": "code",
      "metadata": {
        "colab": {
          "base_uri": "https://localhost:8080/"
        },
        "id": "uGpr1ImvgXkJ",
        "outputId": "0abc47f1-fba6-4d0a-8230-8029682dff62"
      },
      "source": [
        "import numpy as np\n",
        "\n",
        "#criar um vetor\n",
        "\n",
        "vet = np.array([1,2,3,4])\n",
        "print(vet[2])\n"
      ],
      "execution_count": null,
      "outputs": [
        {
          "output_type": "stream",
          "text": [
            "3\n"
          ],
          "name": "stdout"
        }
      ]
    },
    {
      "cell_type": "markdown",
      "metadata": {
        "id": "higxv2FOhviN"
      },
      "source": [
        "# Matrizes"
      ]
    },
    {
      "cell_type": "code",
      "metadata": {
        "colab": {
          "base_uri": "https://localhost:8080/"
        },
        "id": "s6AAaxbohx3H",
        "outputId": "a39df20c-d292-40a0-ce7d-440da99d302a"
      },
      "source": [
        "import numpy as np\n",
        "\n",
        "#criar uma matriz\n",
        "matriz = np.matrix([[1,2,3],[4,5,6]])\n",
        "print(matriz)\n",
        "print(matriz[1,2])"
      ],
      "execution_count": null,
      "outputs": [
        {
          "output_type": "stream",
          "text": [
            "[[1 2 3]\n",
            " [4 5 6]]\n",
            "6\n"
          ],
          "name": "stdout"
        }
      ]
    },
    {
      "cell_type": "markdown",
      "metadata": {
        "id": "H9DKnuXejkCi"
      },
      "source": [
        "# Estruturas de repetição"
      ]
    },
    {
      "cell_type": "code",
      "metadata": {
        "id": "r1anGCf9joHb"
      },
      "source": [
        "#criando um laço com o While\n",
        "x = 1\n",
        "\n",
        "while x < 10:\n",
        "  print(x)\n",
        "  x = x + 1\n",
        "\n",
        "print('#####')\n",
        "\n",
        "#criando um laço como o for\n",
        "for i in range(20):\n",
        "  print(i+1)\n"
      ],
      "execution_count": null,
      "outputs": []
    },
    {
      "cell_type": "markdown",
      "metadata": {
        "id": "NMbMM2Wjgo2i"
      },
      "source": [
        "# Funções\n",
        "\n",
        "\n",
        "*   Funções predefinidas\n",
        "print()\n",
        "input()\n",
        "len()\n",
        "\n",
        "\n",
        "\n",
        "*   Funções personalizadas (def)\n",
        "\n",
        "```\n",
        "# usando o comando def\n",
        "```\n",
        "\n",
        "\n",
        "\n",
        "\n",
        "\n"
      ]
    },
    {
      "cell_type": "code",
      "metadata": {
        "id": "UHP7eIULqxAo"
      },
      "source": [
        "nome = \"João\"\n",
        "dia_vencimento = 10\n",
        "valor_fatura = 149.90\n",
        "print(\n",
        "    \"Olá, caro \", nome,\n",
        "    \"\\n A sua fatura com vencimento em \",\n",
        "    dia_vencimento,\n",
        "    \"de Abril de 2021, \\n no valor de R$\",\n",
        "    valor_fatura,\n",
        "    \"está próxima de vencimento. \\n Favor pagar até o prazo para evitar multas.\",\n",
        ")"
      ],
      "execution_count": null,
      "outputs": []
    },
    {
      "cell_type": "code",
      "metadata": {
        "id": "eXTXWq6FnVV6"
      },
      "source": [
        "numero = input(\"Digite um número:\")\n",
        "print(\"O número digitado foi:\", numero, \"!\")"
      ],
      "execution_count": null,
      "outputs": []
    },
    {
      "cell_type": "code",
      "metadata": {
        "id": "jqVPSCCxhZtd"
      },
      "source": [
        "# exemplo de função que não faz nenhuma ação\n",
        "def nenhumaAcao():\n",
        "  pass\n",
        "\n",
        "# exemplo de função que realiza alguma ação\n",
        "def ola():\n",
        "  print('Ola, estou criando a minha primeira função em Python')\n",
        "  print('É simples de se fazer!')\n",
        "\n",
        "print(ola())\n",
        "\n",
        "#função composta, com parâmetro\n",
        "def numero_elevado(n1, n2):\n",
        "  valor = n1**n2\n",
        "  return (valor)  \n",
        "\n",
        "resultado = numero_elevado(2,4)\n",
        "print(resultado)\n",
        "\n",
        "\n",
        "\n"
      ],
      "execution_count": null,
      "outputs": []
    },
    {
      "cell_type": "markdown",
      "metadata": {
        "id": "HL7LtarmnTy6"
      },
      "source": [
        "# Comandos dir() e help()\n",
        "\n",
        "O comando dir() lista todas as possíveis funções que podem ser executadas sobre um objeto.\n",
        "O comando help() lista todas as possíveis funções, de maneira detalhada, que podem ser executadas sobre um objeto."
      ]
    },
    {
      "cell_type": "code",
      "metadata": {
        "id": "YbSBbJ3JmXj0"
      },
      "source": [
        "\n",
        "pedro = {'nome':'Pedro',\n",
        "         'idade':28,\n",
        "         'formacao':['Engenheiro de Pesca','Coordenador de projeto']}\n",
        "dir(pedro)\n",
        "print(help(pedro))"
      ],
      "execution_count": null,
      "outputs": []
    },
    {
      "cell_type": "markdown",
      "metadata": {
        "id": "ekgPQVZWoEKP"
      },
      "source": [
        "# Programação orientada a objetos\n",
        "# Classes\n",
        "\n",
        "As classes estão diretamente ligadas a Programação Orientada a Objetos, o que em muitas linguagens de programação acaba sendo uma sepração dos demais conteúdos da linguagem. Em Python não há necessidade dessa separação, uma vez que a linguagem em sua forma nativa já é orientada a objetos. Com isso, classes nada mais são do que um objeto que ficará reservado ao sistema tanto para indexação quanto para uso de sua estrutura, funcionando como uma espécie de molde, onde podemos criar uma série de moldes a partir dessa estrutura.\n",
        "Mais aqui: https://docs.python.org/3/tutorial/classes.html#class-objects"
      ]
    },
    {
      "cell_type": "code",
      "metadata": {
        "id": "zzpYeEK6pKyR",
        "colab": {
          "base_uri": "https://localhost:8080/"
        },
        "outputId": "1588b901-78bd-4e75-f778-f5ffce0bdbb7"
      },
      "source": [
        "#class Especialidades:\n",
        "#  aquicultura = 'é uma pratica de craição de peixes para fins comerciais.'\n",
        "#  producao = 'área para elaboração e práticas na produção de animais aquáticos.'\n",
        "\n",
        "#print(Especialidades.aquicultura)\n",
        "\n",
        "# Um exemplo mais clássico para classe\n",
        "# Vamos criar uma classe \"Usuario\" e atribuir várias características (funções, métodos) a ela.\n",
        "\n",
        "class Usuario: #nome de classe se inicia com letra maiúscula\n",
        "  #todo método criado dentro de uma classe, terá self como parâmetro (instância padrão),\n",
        "  #para isso, faremos apenas uma vez, atravé do método especial __init__\n",
        "  def __init__(self, nome, idade): \n",
        "    self.nome = nome #chamada de self para atribuir um nome à variável nome\n",
        "    self.idade = idade #chamada de self para atribuir uma idade à variável idade\n",
        "\n",
        "  def boas_vindas(self): #todo método criado dentro de uma classe, terá self como parâmetro (instância padrão)\n",
        "    print(\"Usuário: \",self.nome, \"Idade: \",self.idade)\n",
        "\n",
        "#fora da classe Usuario\n",
        "#Aqui é criada uma variável usuario1 que recebe a classe Usuario e atribui dados para nome e idade\n",
        "\n",
        "usuario1 = Usuario(nome='Fernando', idade='31')\n",
        "usuario1.boas_vindas()\n",
        "\n",
        "print(usuario1.nome)\n",
        "\n",
        "        "
      ],
      "execution_count": null,
      "outputs": [
        {
          "output_type": "stream",
          "text": [
            "Usuário:  Fernando Idade:  31\n",
            "Fernando\n"
          ],
          "name": "stdout"
        }
      ]
    },
    {
      "cell_type": "markdown",
      "metadata": {
        "id": "u6SbfWjXUBa_"
      },
      "source": [
        "# Classes\n",
        "Alterando dados\n",
        "\n",
        "Caso você precise alterar algum dado ou valor de algo instanciado dentro de uma classe, podemos fazer da seguinte maneira:"
      ]
    },
    {
      "cell_type": "code",
      "metadata": {
        "id": "cFDPrpqNUISz",
        "colab": {
          "base_uri": "https://localhost:8080/"
        },
        "outputId": "4d89909c-e2a4-4a82-8644-7759d406cbc1"
      },
      "source": [
        "class Usuario: \n",
        "    def __init__(self, nome, idade, nacionalidade): \n",
        "        self.nome = nome \n",
        "        self.idade = idade \n",
        "        self.nacionalidade = nacionalidade\n",
        "\n",
        "    def boas_vindas(self): \n",
        "        print(\"Usuário:\",self.nome,\"Idade:\",self.idade,\"Nacionalidade:\",self.nacionalidade)\n",
        "\n",
        "\n",
        "fernando = Usuario(nome = 'Fernando', idade = '31',nacionalidade=\"Brasileiro\")\n",
        "fernando.boas_vindas()\n",
        "\n",
        "print(fernando.idade)\n",
        "\n",
        "#Exemplo de manipulação direta\n",
        "\n",
        "fernando.nome = 'Fernado Feltrin'\n",
        "fernando.boas_vindas()\n",
        "\n",
        "print(fernando.nome)"
      ],
      "execution_count": null,
      "outputs": [
        {
          "output_type": "stream",
          "text": [
            "Usuário: Fernando Idade: 31 Nacionalidade: Brasileiro\n",
            "31\n",
            "Usuário: Fernado Feltrin Idade: 31 Nacionalidade: Brasileiro\n",
            "Fernado Feltrin\n"
          ],
          "name": "stdout"
        }
      ]
    },
    {
      "cell_type": "code",
      "metadata": {
        "id": "HTlF6OfGIhk3"
      },
      "source": [
        "class Carro: \n",
        "  nome = 'Land Rover' \n",
        "  ano = '2019' \n",
        "  cor = 'preto' \n",
        "  \n",
        "print(Carro.nome) \n",
        "print(Carro.ano) \n",
        "print(Carro.cor)"
      ],
      "execution_count": null,
      "outputs": []
    },
    {
      "cell_type": "code",
      "metadata": {
        "id": "n0lEdzR4G60V"
      },
      "source": [
        "#Criando variáveis\n",
        "\n",
        "nome = 'Fulano'\n",
        "n1 = 23\n",
        "valor = 15.99\n",
        "\n",
        "print(type(nome))\n",
        "print(type(n1))\n",
        "print(type(valor))"
      ],
      "execution_count": null,
      "outputs": []
    },
    {
      "cell_type": "code",
      "metadata": {
        "id": "TcaNUOobHti4"
      },
      "source": [
        "#Funções pré-definidas\n",
        "valor = float(input('Digite o valor do produto'))\n",
        "print(f'O valor do produto é R$ {valor + 2.00}')"
      ],
      "execution_count": null,
      "outputs": []
    },
    {
      "cell_type": "code",
      "metadata": {
        "id": "jdHHrSwmJKoH"
      },
      "source": [
        "#Criando listas\n",
        "# Crie uma lista com o nome de cinco pessoas\n",
        "\n",
        "nomes = ['Ana','Carlos','Daiane','Fernando','Maria']\n",
        "print(len(nomes))\n",
        "print(nomes[3])\n",
        "\n",
        "nomes.append('Pedro')\n",
        "print(nomes)\n",
        "\n",
        "nomes.remove('Carlos')\n",
        "print(nomes)\n",
        "\n",
        "del nomes[0]\n",
        "print(nomes)\n",
        "\n",
        "print(nomes.index('Fernando'))\n",
        "\n",
        "print('Carlos' in nomes)"
      ],
      "execution_count": null,
      "outputs": []
    },
    {
      "cell_type": "code",
      "metadata": {
        "id": "OEBb8RiPLsBt"
      },
      "source": [
        "#Estruturas condicionais\n",
        "\n",
        "a = 10\n",
        "b = 15\n",
        "c = 20\n",
        "\n",
        "if a > b:\n",
        "  print(f'{a} é maior que {b}')\n",
        "elif a == b:\n",
        "  print(f'{a} é igua a {b}')  \n",
        "elif c > a and c > b:\n",
        "  print(f'{c} é maior que {a} e maior que {b}')    \n",
        "else:\n",
        "  print(f'{b} é maior que {a}')  "
      ],
      "execution_count": null,
      "outputs": []
    },
    {
      "cell_type": "code",
      "metadata": {
        "id": "i9iEscptSEZ4"
      },
      "source": [
        "#Estruturas de Repetição - while e o for\n",
        "\n",
        "# 1 2 3 4 5 6 7 8 9 10\n",
        "a = 1\n",
        "while a < 11:\n",
        "  print(a)\n",
        "  a += 1\n",
        "  if a == 4:\n",
        "    break\n"
      ],
      "execution_count": null,
      "outputs": []
    },
    {
      "cell_type": "code",
      "metadata": {
        "colab": {
          "base_uri": "https://localhost:8080/"
        },
        "id": "Jv3qstMCTtMN",
        "outputId": "85e39867-2d6e-4927-b4cf-a9166e3c5941"
      },
      "source": [
        "nomes = ['Ana','Carlos','Daiane','Fernando','Maria']\n",
        "\n",
        "for a in nomes:\n",
        "  print(a)"
      ],
      "execution_count": null,
      "outputs": [
        {
          "output_type": "stream",
          "text": [
            "Ana\n",
            "Carlos\n",
            "Daiane\n",
            "Fernando\n",
            "Maria\n"
          ],
          "name": "stdout"
        }
      ]
    }
  ]
}